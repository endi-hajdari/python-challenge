{
 "cells": [
  {
   "cell_type": "markdown",
   "metadata": {},
   "source": [
    "PyBank Python Script"
   ]
  },
  {
   "cell_type": "code",
   "execution_count": null,
   "metadata": {},
   "outputs": [],
   "source": [
    "# Importing the relevant Python Libraries.\n",
    "import pandas as pd\n",
    "import numpy as np"
   ]
  },
  {
   "cell_type": "code",
   "execution_count": null,
   "metadata": {},
   "outputs": [],
   "source": [
    "# Reading the CSV dataset.\n",
    "f_df = pd.read_csv(\"budget_data.csv\")"
   ]
  },
  {
   "cell_type": "code",
   "execution_count": null,
   "metadata": {},
   "outputs": [],
   "source": [
    "# Determining the total number of months included in the dataset.\n",
    "# This is equivalent to counting the number of cells in the \"Date\" column of the CSV file.\n",
    "total_months=len(f_df)\n",
    "# print(\"Total Months: \" + str(total_months))"
   ]
  },
  {
   "cell_type": "code",
   "execution_count": null,
   "metadata": {},
   "outputs": [],
   "source": [
    "# Determining the net total amount of \"Profit/Losses\" over the entire period.\n",
    "# This is equivalent to taking the sum of all of the values in the \"Profit/Losses\" column.\n",
    "net_total = f_df[\"Profit/Losses\"].sum()\n",
    "# print(\"Total: $\" +str(int(net_total)))"
   ]
  },
  {
   "cell_type": "code",
   "execution_count": null,
   "metadata": {},
   "outputs": [],
   "source": [
    "# Determining the greatest increase in profits (amount) over the entire time period.\n",
    "# This is equivalent to doing the following:\n",
    "    # (1) Determining the first differences in the \"Profit/Losses\" column of our dataset; and\n",
    "    # (2) Finding the maximum/largest value in the column of first differences using the Pandas DataFrame max() Method.\n",
    "first_differences = f_df[\"Profit/Losses\"].diff()\n",
    "largest_val = first_differences.max()"
   ]
  },
  {
   "cell_type": "code",
   "execution_count": null,
   "metadata": {},
   "outputs": [],
   "source": [
    "# Determining the greatest increase in profits (date) over the entire time period.\n",
    "# This is equivalent to the following:\n",
    "    # (1) Finding the index of largest_val; and\n",
    "    # (2) Finding the value from f_df in the \"Date\" column that has the same index as that of largest_val.\n",
    "index_largest_val = first_differences.idxmax()\n",
    "v1 = f_df[\"Date\"]\n",
    "largest_val_date = v1[index_largest_val]\n",
    "# print(\"Greatest Increase in Profits: \" +str(largest_val_date) + \" \" + \"(\" + \"$\" +str(int(largest_val)) + \")\")"
   ]
  },
  {
   "cell_type": "code",
   "execution_count": null,
   "metadata": {},
   "outputs": [],
   "source": [
    "# Determining the greatest decrease in profits (amount) over the entire time period.\n",
    "# This is equivalent to doing the following:\n",
    "    # (1) Determining the first differences in the \"Profit/Losses\" column of our data frame (already done in the prior block of code); and\n",
    "    # (2) Finding the minimum/smallest value in the column of first differences using the Pandas DataFrame min() Method.\n",
    "smallest_val = first_differences.min()"
   ]
  },
  {
   "cell_type": "code",
   "execution_count": null,
   "metadata": {},
   "outputs": [],
   "source": [
    "# Determining the greatest decrease in profits (date) over the entire time period.\n",
    "# This is equivalent to the following:\n",
    "    # (1) Finding the index of smallest_val; and\n",
    "    # (2) Finding the value from f_df in the \"Date\" column that has the same index as that of smallest_val.\n",
    "index_smallest_val = first_differences.idxmin()\n",
    "v2 = f_df[\"Date\"]\n",
    "smallest_val_date = v2[index_smallest_val]\n",
    "# print(\"Greatest Decrease in Profits: \" +str(smallest_val_date) + \" \" + \"(\" + \"$\" +str(int(smallest_val)) + \")\")"
   ]
  },
  {
   "cell_type": "code",
   "execution_count": null,
   "metadata": {},
   "outputs": [],
   "source": [
    "# Determining the changes in \"Profit/Losses\" over the entire time period.\n",
    "# This is equivalent to the following:\n",
    "    # (1) Finding the first differences in the \"Profit/Losses\" column of our data frame (already done above); and\n",
    "    # (2) Finding the average of the the first differnces column.\n",
    "avg_changes = first_differences.mean()\n",
    "# print(\"Average Change: \" + \"$\" + str(format(avg_changes, \".2f\")))"
   ]
  },
  {
   "cell_type": "code",
   "execution_count": null,
   "metadata": {},
   "outputs": [],
   "source": [
    "# Printing the results of our analysis.\n",
    "print(\"Financial Analysis\")\n",
    "print(\"-------------------------------------------\")\n",
    "print(\"Total Months: \" + str(total_months))\n",
    "print(\"Total: $\" +str(int(net_total)))\n",
    "print(\"Average Change: \" + \"$\" + str(format(avg_changes, \".2f\")))\n",
    "print(\"Greatest Increase in Profits: \" +str(largest_val_date) + \" \" + \"(\" + \"$\" +str(int(largest_val)) + \")\")\n",
    "print(\"Greatest Decrease in Profits: \" +str(smallest_val_date) + \" \" + \"(\" + \"$\" +str(int(smallest_val)) + \")\")\n"
   ]
  },
  {
   "cell_type": "code",
   "execution_count": null,
   "metadata": {},
   "outputs": [],
   "source": [
    "# Writing a text file containing the results of our financial analysis.\n",
    "f = open(\"PyBank.txt\", \"w\")\n",
    "with open(\"PyBank.txt\", 'a') as f:\n",
    "    line1 = \"Financial Analysis \\n \\n\"\n",
    "    line2 = \"---------------------------------------- \\n \\n\"\n",
    "    line3 = \"Total Months: \" + str(total_months)\n",
    "    line4 = \"\\n\"\n",
    "    line5 = \"Total: $\" +str(int(net_total))\n",
    "    line6 = \"\\n\"\n",
    "    line7 = \"Average Change: \" + \"$\" + str(format(avg_changes, \".2f\"))\n",
    "    line8 = \"\\n\"\n",
    "    line9 = \"Greatest Increase in Profits: \" +str(largest_val_date) + \" \" + \"(\" + \"$\" +str(int(largest_val)) + \")\"\n",
    "    line10 = \"\\n\"\n",
    "    line11 = \"Greatest Decrease in Profits: \" +str(smallest_val_date) + \" \" + \"(\" + \"$\" +str(int(smallest_val)) + \")\"\n",
    "    f.writelines([line1, line2, line3, line4, line5, line6, line7, line8, line9, line10, line11])\n",
    "f.close()"
   ]
  }
 ],
 "metadata": {
  "kernelspec": {
   "display_name": "Python 3.9.12 ('base')",
   "language": "python",
   "name": "python3"
  },
  "language_info": {
   "name": "python",
   "version": "3.9.12"
  },
  "orig_nbformat": 4,
  "vscode": {
   "interpreter": {
    "hash": "d444c0ba247e76692c9ba447a3d44fe67a15d6397bfa90c15d727f97df8698b2"
   }
  }
 },
 "nbformat": 4,
 "nbformat_minor": 2
}
