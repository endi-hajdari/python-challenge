{
 "cells": [
  {
   "cell_type": "markdown",
   "metadata": {},
   "source": [
    "PyBank Python Script"
   ]
  },
  {
   "cell_type": "code",
   "execution_count": 372,
   "metadata": {},
   "outputs": [],
   "source": [
    "# Importing the relevant Python Libraries.\n",
    "import pandas as pd\n",
    "import numpy as np"
   ]
  },
  {
   "cell_type": "code",
   "execution_count": 373,
   "metadata": {},
   "outputs": [],
   "source": [
    "# Reading the CSV dataset.\n",
    "e_df = pd.read_csv(\"election_data.csv\", header=0)"
   ]
  },
  {
   "cell_type": "code",
   "execution_count": 374,
   "metadata": {},
   "outputs": [
    {
     "name": "stdout",
     "output_type": "stream",
     "text": [
      "Total Votes: 369711\n"
     ]
    }
   ],
   "source": [
    "# Finding the total number of votes cast.\n",
    "# This is equivalent to counting the number of cells in the \"Ballot ID\" column of the CSV file.\n",
    "total_votes=len(e_df)\n",
    "print(\"Total Votes: \" + str(total_votes))"
   ]
  },
  {
   "cell_type": "code",
   "execution_count": 375,
   "metadata": {},
   "outputs": [
    {
     "name": "stdout",
     "output_type": "stream",
     "text": [
      "                 Candidate  Counts\n",
      "0  Charles Casper Stockham   85213\n",
      "1            Diana DeGette  272892\n",
      "2     Raymon Anthony Doane   11606\n"
     ]
    }
   ],
   "source": [
    "# Creating a complete list of candidates who received votes.\n",
    "# This is equivalent to printing the unique values in the \"Candidate\" column of the CSV file into a list.\n",
    "unique_candidates = [e_df[\"Candidate\"].unique()]\n",
    "\n",
    "# Determining the total amount of votes each candidate won.\n",
    "# This is equivalent to counting the number of rows that are associated with each candidate.\n",
    "e_df2 = e_df.groupby([\"Candidate\"])[\"Candidate\"].count().reset_index(name='Counts')\n",
    " \n",
    "print(e_df2)"
   ]
  },
  {
   "cell_type": "code",
   "execution_count": 376,
   "metadata": {},
   "outputs": [],
   "source": [
    "# Determining the total percentage of votes each candidate won.\n",
    "# This is equivalent to the following:\n",
    "#   (1) Counting the number of rows that are associated with each candidate; and\n",
    "#   (2) 100*(# of rows associated with Candidate i)/(total_votes).\n",
    "total_percentage= (100*e_df.groupby([\"Candidate\"])[\"Candidate\"].count()/total_votes).reset_index(name='pCounts')\n",
    "\n",
    "# print(total_percentage[\"pCounts\"])"
   ]
  },
  {
   "cell_type": "code",
   "execution_count": 377,
   "metadata": {},
   "outputs": [
    {
     "name": "stdout",
     "output_type": "stream",
     "text": [
      "                 Candidate  Counts    pCounts\n",
      "0  Charles Casper Stockham   85213  23.048543\n",
      "1            Diana DeGette  272892  73.812248\n",
      "2     Raymon Anthony Doane   11606   3.139209\n"
     ]
    }
   ],
   "source": [
    "# Formatting the results obtained from the last two blocks of code via concatenation.\n",
    "new_table = e_df2.join(total_percentage[\"pCounts\"])\n",
    "\n",
    "print(new_table)"
   ]
  },
  {
   "cell_type": "code",
   "execution_count": 378,
   "metadata": {},
   "outputs": [],
   "source": [
    "# Printing the statistics for each candidate to verify values with those provided on Canvas.\n",
    "for i in new_table.index:\n",
    "    update1 = new_table[\"Candidate\"][i] + \":\", format(new_table[\"pCounts\"][i],\"0.3f\") + \"%\", new_table[\"Counts\"][i]\n",
    "# print(update1)"
   ]
  },
  {
   "cell_type": "code",
   "execution_count": 379,
   "metadata": {},
   "outputs": [],
   "source": [
    "# Determining the overall winner of the election based on highest number of votes.\n",
    "index_winner = new_table.Counts.idxmax()\n",
    "winner = str(new_table[\"Candidate\"][index_winner])\n",
    "\n",
    "#print(winner)"
   ]
  },
  {
   "cell_type": "code",
   "execution_count": 380,
   "metadata": {},
   "outputs": [
    {
     "name": "stdout",
     "output_type": "stream",
     "text": [
      "Election Results\n",
      "-------------------------------------------\n",
      "Total Votes: 369711\n",
      "-------------------------------------------\n",
      "Charles Casper Stockham: 23.049% (85213)\n",
      "Diana DeGette: 73.812% (272892)\n",
      "Raymon Anthony Doane: 3.139% (11606)\n",
      "-------------------------------------------\n",
      "Winner: Diana DeGette\n"
     ]
    }
   ],
   "source": [
    "# Printing the results of our analysis.\n",
    "print(\"Election Results\")\n",
    "print(\"-------------------------------------------\")\n",
    "print(\"Total Votes: \" + str(total_votes))\n",
    "print(\"-------------------------------------------\")\n",
    "print(str(new_table[\"Candidate\"][0] + \":\") + \" \" + str(format(new_table[\"pCounts\"][0],\"0.3f\")) + \"%\" + \" \" + \"(\"+ str(new_table[\"Counts\"][0])+\")\")\n",
    "print(str(new_table[\"Candidate\"][1] + \":\") + \" \" + str(format(new_table[\"pCounts\"][1],\"0.3f\")) + \"%\" + \" \" + \"(\"+ str(new_table[\"Counts\"][1])+\")\")\n",
    "print(str(new_table[\"Candidate\"][2] + \":\") + \" \" + str(format(new_table[\"pCounts\"][2],\"0.3f\")) + \"%\" + \" \" + \"(\"+ str(new_table[\"Counts\"][2])+\")\")\n",
    "print(\"-------------------------------------------\")\n",
    "print(\"Winner: \" + str(winner))\n"
   ]
  },
  {
   "cell_type": "code",
   "execution_count": 381,
   "metadata": {},
   "outputs": [],
   "source": [
    "# Writing a text file containing the results of the town's electoral analysis.\n",
    "f = open(\"PyPoll.txt\", \"w\")\n",
    "with open(\"PyPoll.txt\", 'a') as f:\n",
    "    line1 = \"Election Results \\n \\n\"\n",
    "    line2 = \"---------------------------------------- \\n \\n\"\n",
    "    line3 = \"Total Votes: \" + str(total_votes)\n",
    "    line4 = \"\\n \\n\"\n",
    "    line5 = \"---------------------------------------- \\n \\n\"\n",
    "    line6 = str(new_table[\"Candidate\"][0] + \":\") + \" \" + str(format(new_table[\"pCounts\"][0],\"0.3f\")) + \"%\" + \" \" + \"(\"+ str(new_table[\"Counts\"][0])+\")\"\n",
    "    line7 = \"\\n\"\n",
    "    line8 = str(new_table[\"Candidate\"][1] + \":\") + \" \" + str(format(new_table[\"pCounts\"][1],\"0.3f\")) + \"%\" + \" \" + \"(\"+ str(new_table[\"Counts\"][1])+\")\"\n",
    "    line9 = \"\\n\"\n",
    "    line10 = str(new_table[\"Candidate\"][2] + \":\") + \" \" + str(format(new_table[\"pCounts\"][2],\"0.3f\")) + \"%\" + \" \" + \"(\"+ str(new_table[\"Counts\"][2])+\")\"\n",
    "    line11 = \"\\n \\n\"\n",
    "    line12 = \"---------------------------------------- \\n \\n\"\n",
    "    line13 = \"Winner: \" + str(winner)\n",
    "    f.writelines([line1, line2, line3, line4, line5, line6, line7, line8, line9, line10, line11, line12, line13])\n",
    "f.close()"
   ]
  }
 ],
 "metadata": {
  "kernelspec": {
   "display_name": "Python 3.9.12 ('base')",
   "language": "python",
   "name": "python3"
  },
  "language_info": {
   "codemirror_mode": {
    "name": "ipython",
    "version": 3
   },
   "file_extension": ".py",
   "mimetype": "text/x-python",
   "name": "python",
   "nbconvert_exporter": "python",
   "pygments_lexer": "ipython3",
   "version": "3.9.12"
  },
  "orig_nbformat": 4,
  "vscode": {
   "interpreter": {
    "hash": "d444c0ba247e76692c9ba447a3d44fe67a15d6397bfa90c15d727f97df8698b2"
   }
  }
 },
 "nbformat": 4,
 "nbformat_minor": 2
}
